{
 "cells": [
  {
   "cell_type": "code",
   "execution_count": 18,
   "id": "69b54be3",
   "metadata": {},
   "outputs": [],
   "source": [
    "import numpy as np"
   ]
  },
  {
   "cell_type": "code",
   "execution_count": 21,
   "id": "4cfc6c78",
   "metadata": {},
   "outputs": [
    {
     "name": "stdout",
     "output_type": "stream",
     "text": [
      "Matrix A:\n",
      "[[ 1  0 -1]\n",
      " [ 1  2  1]\n",
      " [ 2  2  3]]\n",
      "\n",
      "Identity Matrix\n",
      "[[1 0 0]\n",
      " [0 1 0]\n",
      " [0 0 1]]\n",
      "\n",
      "Eigenvalues:\n",
      "[2. 3. 1.]\n",
      "\n",
      "Eigenvectors\n",
      "[[-6.66666667e-01 -4.08248290e-01  7.07106781e-01]\n",
      " [ 3.33333333e-01  4.08248290e-01 -7.07106781e-01]\n",
      " [ 6.66666667e-01  8.16496581e-01  5.19864223e-16]]\n",
      "\n",
      "Diagonal matrix D:\n",
      "[[2. 0. 0.]\n",
      " [0. 3. 0.]\n",
      " [0. 0. 1.]]\n",
      "\n",
      "Matrix of P\n",
      "[[-6.66666667e-01 -4.08248290e-01  7.07106781e-01]\n",
      " [ 3.33333333e-01  4.08248290e-01 -7.07106781e-01]\n",
      " [ 6.66666667e-01  8.16496581e-01  5.19864223e-16]]\n",
      "\n",
      "Inverse of matrix P:\n",
      "[[-3.00000000e+00 -3.00000000e+00 -3.22542807e-15]\n",
      " [ 2.44948974e+00  2.44948974e+00  1.22474487e+00]\n",
      " [-0.00000000e+00 -1.41421356e+00  7.07106781e-01]]\n",
      "\n",
      "Inverse of matrix A:\n",
      "[[ 0.66666667 -0.33333333  0.33333333]\n",
      " [-0.16666667  0.83333333 -0.33333333]\n",
      " [-0.33333333 -0.33333333  0.33333333]]\n"
     ]
    }
   ],
   "source": [
    "A = np.array([\n",
    "    [1, 0,-1],\n",
    "    [1, 2, 1],\n",
    "    [2, 2, 3]\n",
    "])\n",
    "\n",
    "Identity_Matrix = np.array([\n",
    "    [1, 0, 0],\n",
    "    [0, 1, 0],\n",
    "    [0, 0, 1]\n",
    "])\n",
    "\n",
    "eigenvalues, eigenvectors = np.linalg.eig(A)\n",
    "\n",
    "D = np.diag(eigenvalues)\n",
    "\n",
    "P = eigenvectors\n",
    "\n",
    "P_inv = np.linalg.inv(P)\n",
    "\n",
    "A_inv = np.linalg.inv(A)\n",
    "\n",
    "print(\"Matrix A:\")\n",
    "print(A)\n",
    "\n",
    "print(\"\\nIdentity Matrix\")\n",
    "print(Identity_Matrix)\n",
    "\n",
    "print(\"\\nEigenvalues:\")\n",
    "print(eigenvalues)\n",
    "\n",
    "print(\"\\nEigenvectors\")\n",
    "print(P)\n",
    "\n",
    "print(\"\\nDiagonal matrix D:\")\n",
    "print(D)\n",
    "\n",
    "print(\"\\nMatrix of P\")\n",
    "print(P)\n",
    "\n",
    "print(\"\\nInverse of matrix P:\")\n",
    "print(P_inv)\n",
    "\n",
    "print(\"\\nInverse of matrix A:\")\n",
    "print(A_inv)"
   ]
  },
  {
   "cell_type": "code",
   "execution_count": null,
   "id": "a9b42b4d",
   "metadata": {},
   "outputs": [],
   "source": []
  },
  {
   "cell_type": "code",
   "execution_count": 1,
   "id": "14554f7c",
   "metadata": {},
   "outputs": [],
   "source": []
  },
  {
   "cell_type": "code",
   "execution_count": 2,
   "id": "5720daea",
   "metadata": {},
   "outputs": [],
   "source": []
  },
  {
   "cell_type": "code",
   "execution_count": null,
   "id": "07265565",
   "metadata": {},
   "outputs": [],
   "source": []
  },
  {
   "cell_type": "code",
   "execution_count": null,
   "id": "846dc70e",
   "metadata": {},
   "outputs": [],
   "source": []
  }
 ],
 "metadata": {
  "kernelspec": {
   "display_name": "Python 3 (ipykernel)",
   "language": "python",
   "name": "python3"
  },
  "language_info": {
   "codemirror_mode": {
    "name": "ipython",
    "version": 3
   },
   "file_extension": ".py",
   "mimetype": "text/x-python",
   "name": "python",
   "nbconvert_exporter": "python",
   "pygments_lexer": "ipython3",
   "version": "3.11.5"
  }
 },
 "nbformat": 4,
 "nbformat_minor": 5
}
